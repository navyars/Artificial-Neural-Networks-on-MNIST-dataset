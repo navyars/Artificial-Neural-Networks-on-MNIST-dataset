{
 "cells": [
  {
   "cell_type": "code",
   "execution_count": 1,
   "metadata": {},
   "outputs": [
    {
     "name": "stderr",
     "output_type": "stream",
     "text": [
      "Using TensorFlow backend.\n"
     ]
    }
   ],
   "source": [
    "import keras\n",
    "from keras.datasets import mnist\n",
    "from keras.models import Sequential\n",
    "from keras.layers import Dense\n",
    "from keras import optimizers\n",
    "from keras import regularizers\n",
    "from keras.utils.np_utils import to_categorical\n",
    "from matplotlib import pyplot as plt\n"
   ]
  },
  {
   "cell_type": "code",
   "execution_count": 2,
   "metadata": {},
   "outputs": [
    {
     "name": "stdout",
     "output_type": "stream",
     "text": [
      "Dimensions of Train data: (60000, 28, 28)\n",
      "Dimensions of Train label: (60000,)\n",
      "Dimensions of Test data: (10000, 28, 28)\n",
      "Dimensions of Test label: (10000,)\n"
     ]
    }
   ],
   "source": [
    "(x_train, y_train), (x_test, y_test) = mnist.load_data()\n",
    "print \"Dimensions of Train data:\", x_train.shape\n",
    "print \"Dimensions of Train label:\", y_train.shape\n",
    "print \"Dimensions of Test data:\", x_test.shape\n",
    "print \"Dimensions of Test label:\", y_test.shape"
   ]
  },
  {
   "cell_type": "code",
   "execution_count": 3,
   "metadata": {},
   "outputs": [
    {
     "name": "stdout",
     "output_type": "stream",
     "text": [
      "Dimensions of Train data: (60000, 784)\n",
      "Dimensions of in Test data: (10000, 784)\n",
      "Dimensions of Train label: (60000, 10)\n",
      "Dimensions of Test label: (10000, 10)\n"
     ]
    }
   ],
   "source": [
    "x_train = x_train.reshape(x_train.shape[0],28*28)\n",
    "x_test = x_test.reshape(x_test.shape[0],28*28)\n",
    "\n",
    "x_train = x_train.astype('float32')\n",
    "x_test = x_test.astype('float32')\n",
    "x_train = x_train/255\n",
    "x_test = x_test/255\n",
    "\n",
    "y_train = to_categorical(y_train,num_classes = 10)\n",
    "y_test = to_categorical(y_test,num_classes = 10)\n",
    "\n",
    "print \"Dimensions of Train data:\", x_train.shape\n",
    "print \"Dimensions of in Test data:\", x_test.shape\n",
    "print \"Dimensions of Train label:\", y_train.shape\n",
    "print \"Dimensions of Test label:\", y_test.shape"
   ]
  },
  {
   "cell_type": "code",
   "execution_count": 4,
   "metadata": {},
   "outputs": [],
   "source": [
    "model = Sequential()\n",
    "model.add(Dense(28*28, activation = 'relu', use_bias = True, bias_initializer = 'zeros', input_shape = (28*28,), kernel_regularizer=regularizers.l2(0.01)))\n",
    "keras.layers.Dropout(0.05)\n",
    "model.add(Dense(10, use_bias = True, bias_initializer = 'zeros', activation = 'softmax'))"
   ]
  },
  {
   "cell_type": "code",
   "execution_count": 5,
   "metadata": {},
   "outputs": [],
   "source": [
    "ada = keras.optimizers.Adagrad(lr=0.01, epsilon=None, decay=0.0)\n",
    "model.compile(optimizer = ada, loss = 'categorical_crossentropy', metrics = ['accuracy'])"
   ]
  },
  {
   "cell_type": "code",
   "execution_count": 6,
   "metadata": {},
   "outputs": [
    {
     "name": "stdout",
     "output_type": "stream",
     "text": [
      "Train on 48000 samples, validate on 12000 samples\n",
      "Epoch 1/50\n",
      "48000/48000 [==============================] - 72s 2ms/step - loss: 0.6187 - acc: 0.9051 - val_loss: 0.4084 - val_acc: 0.9322\n",
      "Epoch 2/50\n",
      "48000/48000 [==============================] - 100s 2ms/step - loss: 0.3900 - acc: 0.9324 - val_loss: 0.3531 - val_acc: 0.9425\n",
      "Epoch 3/50\n",
      "48000/48000 [==============================] - 87s 2ms/step - loss: 0.3492 - acc: 0.9401 - val_loss: 0.3272 - val_acc: 0.9460\n",
      "Epoch 4/50\n",
      "48000/48000 [==============================] - 89s 2ms/step - loss: 0.3230 - acc: 0.9451 - val_loss: 0.2957 - val_acc: 0.9517\n",
      "Epoch 5/50\n",
      "48000/48000 [==============================] - 84s 2ms/step - loss: 0.3041 - acc: 0.9487 - val_loss: 0.2875 - val_acc: 0.9522\n",
      "Epoch 6/50\n",
      "48000/48000 [==============================] - 89s 2ms/step - loss: 0.2906 - acc: 0.9514 - val_loss: 0.2778 - val_acc: 0.9548\n",
      "Epoch 7/50\n",
      "48000/48000 [==============================] - 95s 2ms/step - loss: 0.2800 - acc: 0.9536 - val_loss: 0.2740 - val_acc: 0.9536\n",
      "Epoch 8/50\n",
      "48000/48000 [==============================] - 95s 2ms/step - loss: 0.2702 - acc: 0.9555 - val_loss: 0.2607 - val_acc: 0.9583\n",
      "Epoch 9/50\n",
      "48000/48000 [==============================] - 93s 2ms/step - loss: 0.2622 - acc: 0.9570 - val_loss: 0.2540 - val_acc: 0.9577\n",
      "Epoch 10/50\n",
      "48000/48000 [==============================] - 91s 2ms/step - loss: 0.2555 - acc: 0.9579 - val_loss: 0.2525 - val_acc: 0.9602\n",
      "Epoch 11/50\n",
      "48000/48000 [==============================] - 89s 2ms/step - loss: 0.2493 - acc: 0.9592 - val_loss: 0.2482 - val_acc: 0.9587\n",
      "Epoch 12/50\n",
      "48000/48000 [==============================] - 93s 2ms/step - loss: 0.2441 - acc: 0.9601 - val_loss: 0.2397 - val_acc: 0.9631\n",
      "Epoch 13/50\n",
      "48000/48000 [==============================] - 90s 2ms/step - loss: 0.2384 - acc: 0.9617 - val_loss: 0.2373 - val_acc: 0.9603\n",
      "Epoch 14/50\n",
      "48000/48000 [==============================] - 97s 2ms/step - loss: 0.2345 - acc: 0.9619 - val_loss: 0.2318 - val_acc: 0.9616\n",
      "Epoch 15/50\n",
      "48000/48000 [==============================] - 96s 2ms/step - loss: 0.2312 - acc: 0.9627 - val_loss: 0.2282 - val_acc: 0.9638\n",
      "Epoch 16/50\n",
      "48000/48000 [==============================] - 91s 2ms/step - loss: 0.2265 - acc: 0.9639 - val_loss: 0.2229 - val_acc: 0.9645\n",
      "Epoch 17/50\n",
      "48000/48000 [==============================] - 94s 2ms/step - loss: 0.2233 - acc: 0.9646 - val_loss: 0.2206 - val_acc: 0.9652\n",
      "Epoch 18/50\n",
      "48000/48000 [==============================] - 87s 2ms/step - loss: 0.2201 - acc: 0.9650 - val_loss: 0.2214 - val_acc: 0.9639\n",
      "Epoch 19/50\n",
      "48000/48000 [==============================] - 91s 2ms/step - loss: 0.2169 - acc: 0.9656 - val_loss: 0.2192 - val_acc: 0.9656\n",
      "Epoch 20/50\n",
      "48000/48000 [==============================] - 91s 2ms/step - loss: 0.2144 - acc: 0.9661 - val_loss: 0.2166 - val_acc: 0.9651\n",
      "Epoch 21/50\n",
      "48000/48000 [==============================] - 88s 2ms/step - loss: 0.2114 - acc: 0.9667 - val_loss: 0.2104 - val_acc: 0.9673\n",
      "Epoch 22/50\n",
      "48000/48000 [==============================] - 91s 2ms/step - loss: 0.2085 - acc: 0.9667 - val_loss: 0.2051 - val_acc: 0.9680\n",
      "Epoch 23/50\n",
      "48000/48000 [==============================] - 95s 2ms/step - loss: 0.2064 - acc: 0.9676 - val_loss: 0.2082 - val_acc: 0.9676\n",
      "Epoch 24/50\n",
      "48000/48000 [==============================] - 98s 2ms/step - loss: 0.2039 - acc: 0.9687 - val_loss: 0.2073 - val_acc: 0.9661\n",
      "Epoch 25/50\n",
      "48000/48000 [==============================] - 100s 2ms/step - loss: 0.2021 - acc: 0.9685 - val_loss: 0.2063 - val_acc: 0.9691\n",
      "Epoch 26/50\n",
      "48000/48000 [==============================] - 96s 2ms/step - loss: 0.1999 - acc: 0.9688 - val_loss: 0.2012 - val_acc: 0.9683\n",
      "Epoch 27/50\n",
      "48000/48000 [==============================] - 88s 2ms/step - loss: 0.1978 - acc: 0.9695 - val_loss: 0.2008 - val_acc: 0.9689\n",
      "Epoch 28/50\n",
      "48000/48000 [==============================] - 96s 2ms/step - loss: 0.1963 - acc: 0.9694 - val_loss: 0.1980 - val_acc: 0.9692\n",
      "Epoch 29/50\n",
      "48000/48000 [==============================] - 95s 2ms/step - loss: 0.1941 - acc: 0.9703 - val_loss: 0.1974 - val_acc: 0.9694\n",
      "Epoch 30/50\n",
      "48000/48000 [==============================] - 96s 2ms/step - loss: 0.1924 - acc: 0.9707 - val_loss: 0.1971 - val_acc: 0.9693\n",
      "Epoch 31/50\n",
      "48000/48000 [==============================] - 96s 2ms/step - loss: 0.1909 - acc: 0.9703 - val_loss: 0.1965 - val_acc: 0.9681\n",
      "Epoch 32/50\n",
      "48000/48000 [==============================] - 93s 2ms/step - loss: 0.1894 - acc: 0.9707 - val_loss: 0.1944 - val_acc: 0.9685\n",
      "Epoch 33/50\n",
      "48000/48000 [==============================] - 88s 2ms/step - loss: 0.1876 - acc: 0.9710 - val_loss: 0.1912 - val_acc: 0.9708\n",
      "Epoch 34/50\n",
      "48000/48000 [==============================] - 95s 2ms/step - loss: 0.1863 - acc: 0.9719 - val_loss: 0.1910 - val_acc: 0.9698\n",
      "Epoch 35/50\n",
      "48000/48000 [==============================] - 87s 2ms/step - loss: 0.1846 - acc: 0.9720 - val_loss: 0.1902 - val_acc: 0.9688\n",
      "Epoch 36/50\n",
      "48000/48000 [==============================] - 89s 2ms/step - loss: 0.1836 - acc: 0.9726 - val_loss: 0.1888 - val_acc: 0.9715\n",
      "Epoch 37/50\n",
      "48000/48000 [==============================] - 98s 2ms/step - loss: 0.1818 - acc: 0.9729 - val_loss: 0.1889 - val_acc: 0.9698\n",
      "Epoch 38/50\n",
      "48000/48000 [==============================] - 102s 2ms/step - loss: 0.1807 - acc: 0.9725 - val_loss: 0.1859 - val_acc: 0.9706\n",
      "Epoch 39/50\n",
      "48000/48000 [==============================] - 96s 2ms/step - loss: 0.1794 - acc: 0.9728 - val_loss: 0.1863 - val_acc: 0.9698\n",
      "Epoch 40/50\n",
      "48000/48000 [==============================] - 92s 2ms/step - loss: 0.1781 - acc: 0.9739 - val_loss: 0.1873 - val_acc: 0.9692\n",
      "Epoch 41/50\n",
      "48000/48000 [==============================] - 90s 2ms/step - loss: 0.1771 - acc: 0.9735 - val_loss: 0.1850 - val_acc: 0.9698\n",
      "Epoch 42/50\n",
      "48000/48000 [==============================] - 92s 2ms/step - loss: 0.1762 - acc: 0.9736 - val_loss: 0.1817 - val_acc: 0.9723\n",
      "Epoch 43/50\n",
      "48000/48000 [==============================] - 97s 2ms/step - loss: 0.1747 - acc: 0.9740 - val_loss: 0.1844 - val_acc: 0.9713\n",
      "Epoch 44/50\n",
      "48000/48000 [==============================] - 94s 2ms/step - loss: 0.1742 - acc: 0.9742 - val_loss: 0.1838 - val_acc: 0.9696\n",
      "Epoch 45/50\n",
      "48000/48000 [==============================] - 101s 2ms/step - loss: 0.1727 - acc: 0.9744 - val_loss: 0.1801 - val_acc: 0.9712\n",
      "Epoch 46/50\n",
      "48000/48000 [==============================] - 98s 2ms/step - loss: 0.1721 - acc: 0.9744 - val_loss: 0.1814 - val_acc: 0.9705\n",
      "Epoch 47/50\n",
      "48000/48000 [==============================] - 93s 2ms/step - loss: 0.1709 - acc: 0.9748 - val_loss: 0.1784 - val_acc: 0.9718\n",
      "Epoch 48/50\n",
      "48000/48000 [==============================] - 92s 2ms/step - loss: 0.1696 - acc: 0.9745 - val_loss: 0.1800 - val_acc: 0.9711\n",
      "Epoch 49/50\n",
      "48000/48000 [==============================] - 94s 2ms/step - loss: 0.1687 - acc: 0.9751 - val_loss: 0.1788 - val_acc: 0.9726\n",
      "Epoch 50/50\n",
      "48000/48000 [==============================] - 93s 2ms/step - loss: 0.1677 - acc: 0.9755 - val_loss: 0.1785 - val_acc: 0.9713\n"
     ]
    }
   ],
   "source": [
    "history = model.fit(x_train, y_train, batch_size = 32, epochs = 50, verbose = 1, validation_split = 0.2, shuffle = True)"
   ]
  },
  {
   "cell_type": "code",
   "execution_count": 7,
   "metadata": {},
   "outputs": [
    {
     "name": "stdout",
     "output_type": "stream",
     "text": [
      "Test Accuracy: 97.55208333333333 %\n",
      "Validation Accuracy: 97.13333333333334 %\n"
     ]
    }
   ],
   "source": [
    "print \"Test Accuracy:\",history.history['acc'][-1]*100,\"%\"\n",
    "print \"Validation Accuracy:\",history.history['val_acc'][-1] * 100,\"%\""
   ]
  },
  {
   "cell_type": "code",
   "execution_count": 8,
   "metadata": {},
   "outputs": [
    {
     "data": {
      "image/png": "[encoded data removed]",
      "text/plain": [
       "<matplotlib.figure.Figure at 0x7f9ca40eac10>"
      ]
     },
     "metadata": {},
     "output_type": "display_data"
    }
   ],
   "source": [
    "plt.plot(history.history['acc'])\n",
    "plt.plot(history.history['val_acc'])\n",
    "plt.title('model accuracy')\n",
    "plt.ylabel('accuracy')\n",
    "plt.xlabel('epoch')\n",
    "plt.legend(['train', 'validation'], loc='upper left')\n",
    "plt.show()"
   ]
  },
  {
   "cell_type": "code",
   "execution_count": 9,
   "metadata": {},
   "outputs": [
    {
     "data": {
      "image/png": "[encoded data removed]",
      "text/plain": [
       "<matplotlib.figure.Figure at 0x7f9c6cfac350>"
      ]
     },
     "metadata": {},
     "output_type": "display_data"
    }
   ],
   "source": [
    "plt.plot(history.history['loss'])\n",
    "plt.plot(history.history['val_loss'])\n",
    "plt.title('model loss')\n",
    "plt.ylabel('loss')\n",
    "plt.xlabel('epoch')\n",
    "plt.legend(['train', 'validation'], loc='upper right')\n",
    "plt.show()"
   ]
  },
  {
   "cell_type": "code",
   "execution_count": 10,
   "metadata": {},
   "outputs": [
    {
     "name": "stdout",
     "output_type": "stream",
     "text": [
      "_________________________________________________________________\n",
      "Layer (type)                 Output Shape              Param #   \n",
      "=================================================================\n",
      "dense_1 (Dense)              (None, 784)               615440    \n",
      "_________________________________________________________________\n",
      "dense_2 (Dense)              (None, 10)                7850      \n",
      "=================================================================\n",
      "Total params: 623,290\n",
      "Trainable params: 623,290\n",
      "Non-trainable params: 0\n",
      "_________________________________________________________________\n"
     ]
    }
   ],
   "source": [
    "model.summary()"
   ]
  },
  {
   "cell_type": "code",
   "execution_count": 11,
   "metadata": {},
   "outputs": [
    {
     "name": "stdout",
     "output_type": "stream",
     "text": [
      "Test Accuracy: 97.07000000000001 %\n"
     ]
    }
   ],
   "source": [
    "eval = model.evaluate(x_test, y_test, verbose = 0)\n",
    "print \"Test Accuracy:\", eval[1]*100,\"%\"\n"
   ]
  },
  {
   "cell_type": "code",
   "execution_count": null,
   "metadata": {},
   "outputs": [],
   "source": []
  }
 ],
 "metadata": {
  "kernelspec": {
   "display_name": "Python 2",
   "language": "python",
   "name": "python2"
  },
  "language_info": {
   "codemirror_mode": {
    "name": "ipython",
    "version": 2
   },
   "file_extension": ".py",
   "mimetype": "text/x-python",
   "name": "python",
   "nbconvert_exporter": "python",
   "pygments_lexer": "ipython2",
   "version": "2.7.9"
  }
 },
 "nbformat": 4,
 "nbformat_minor": 2
}
