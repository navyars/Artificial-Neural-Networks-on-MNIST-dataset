{
 "cells": [
  {
   "cell_type": "code",
   "execution_count": 8,
   "metadata": {},
   "outputs": [],
   "source": [
    "import keras\n",
    "from keras.datasets import mnist\n",
    "from keras.models import Sequential\n",
    "from keras.layers import Dense\n",
    "from keras import optimizers\n",
    "from keras.utils.np_utils import to_categorical\n",
    "from matplotlib import pyplot as plt\n"
   ]
  },
  {
   "cell_type": "code",
   "execution_count": 9,
   "metadata": {},
   "outputs": [
    {
     "name": "stdout",
     "output_type": "stream",
     "text": [
      "Dimensions of Train data: (60000, 28, 28)\n",
      "Dimensions of Train label: (60000,)\n",
      "Dimensions of Test data: (10000, 28, 28)\n",
      "Dimensions of Test label: (10000,)\n"
     ]
    }
   ],
   "source": [
    "(x_train, y_train), (x_test, y_test) = mnist.load_data()\n",
    "print \"Dimensions of Train data:\", x_train.shape\n",
    "print \"Dimensions of Train label:\", y_train.shape\n",
    "print \"Dimensions of Test data:\", x_test.shape\n",
    "print \"Dimensions of Test label:\", y_test.shape"
   ]
  },
  {
   "cell_type": "code",
   "execution_count": 10,
   "metadata": {},
   "outputs": [
    {
     "name": "stdout",
     "output_type": "stream",
     "text": [
      "Dimensions of Train data: (60000, 784)\n",
      "Dimensions of in Test data: (10000, 784)\n",
      "Dimensions of Train label: (60000, 10)\n",
      "Dimensions of Test label: (10000, 10)\n"
     ]
    }
   ],
   "source": [
    "x_train = x_train.reshape(x_train.shape[0],28*28)\n",
    "x_test = x_test.reshape(x_test.shape[0],28*28)\n",
    "\n",
    "x_train = x_train.astype('float32')\n",
    "x_test = x_test.astype('float32')\n",
    "x_train = x_train/255\n",
    "x_test = x_test/255\n",
    "\n",
    "y_train = to_categorical(y_train,num_classes = 10)\n",
    "y_test = to_categorical(y_test,num_classes = 10)\n",
    "\n",
    "print \"Dimensions of Train data:\", x_train.shape\n",
    "print \"Dimensions of in Test data:\", x_test.shape\n",
    "print \"Dimensions of Train label:\", y_train.shape\n",
    "print \"Dimensions of Test label:\", y_test.shape"
   ]
  },
  {
   "cell_type": "code",
   "execution_count": 11,
   "metadata": {},
   "outputs": [],
   "source": [
    "model = Sequential()\n",
    "model.add(Dense(28*28, activation = 'relu', use_bias = True, bias_initializer = 'zeros', input_shape = (28*28,)))\n",
    "keras.layers.Dropout(0.05)\n",
    "model.add(Dense(196, activation = 'relu', use_bias = True, bias_initializer = 'zeros'))\n",
    "model.add(Dense(49, activation = 'relu', use_bias = True, bias_initializer = 'zeros'))\n",
    "model.add(Dense(24, activation = 'relu', use_bias = True, bias_initializer = 'zeros'))\n",
    "model.add(Dense(10, use_bias = True, bias_initializer = 'zeros', activation = 'softmax'))"
   ]
  },
  {
   "cell_type": "code",
   "execution_count": 12,
   "metadata": {},
   "outputs": [],
   "source": [
    "ada = keras.optimizers.Adagrad(lr=0.01, epsilon=None, decay=0.0)\n",
    "model.compile(optimizer = ada, loss = 'categorical_crossentropy', metrics = ['accuracy'])"
   ]
  },
  {
   "cell_type": "code",
   "execution_count": 13,
   "metadata": {},
   "outputs": [
    {
     "name": "stdout",
     "output_type": "stream",
     "text": [
      "Train on 48000 samples, validate on 12000 samples\n",
      "Epoch 1/50\n",
      "48000/48000 [==============================] - 118s 2ms/step - loss: 0.2396 - acc: 0.9270 - val_loss: 0.1208 - val_acc: 0.9648\n",
      "Epoch 2/50\n",
      "48000/48000 [==============================] - 87s 2ms/step - loss: 0.0865 - acc: 0.9739 - val_loss: 0.1052 - val_acc: 0.9692\n",
      "Epoch 3/50\n",
      "48000/48000 [==============================] - 92s 2ms/step - loss: 0.0563 - acc: 0.9834 - val_loss: 0.0849 - val_acc: 0.9731\n",
      "Epoch 4/50\n",
      "48000/48000 [==============================] - 98s 2ms/step - loss: 0.0395 - acc: 0.9887 - val_loss: 0.0832 - val_acc: 0.9754\n",
      "Epoch 5/50\n",
      "48000/48000 [==============================] - 93s 2ms/step - loss: 0.0276 - acc: 0.9922 - val_loss: 0.0829 - val_acc: 0.9746\n",
      "Epoch 6/50\n",
      "48000/48000 [==============================] - 104s 2ms/step - loss: 0.0196 - acc: 0.9952 - val_loss: 0.0813 - val_acc: 0.9774\n",
      "Epoch 7/50\n",
      "48000/48000 [==============================] - 100s 2ms/step - loss: 0.0137 - acc: 0.9970 - val_loss: 0.0811 - val_acc: 0.9775\n",
      "Epoch 8/50\n",
      "48000/48000 [==============================] - 97s 2ms/step - loss: 0.0101 - acc: 0.9980 - val_loss: 0.0804 - val_acc: 0.9782\n",
      "Epoch 9/50\n",
      "48000/48000 [==============================] - 99s 2ms/step - loss: 0.0074 - acc: 0.9987 - val_loss: 0.0833 - val_acc: 0.9782\n",
      "Epoch 10/50\n",
      "48000/48000 [==============================] - 96s 2ms/step - loss: 0.0055 - acc: 0.9993 - val_loss: 0.0836 - val_acc: 0.9790\n",
      "Epoch 11/50\n",
      "48000/48000 [==============================] - 101s 2ms/step - loss: 0.0042 - acc: 0.9996 - val_loss: 0.0855 - val_acc: 0.9787\n",
      "Epoch 12/50\n",
      "48000/48000 [==============================] - 99s 2ms/step - loss: 0.0033 - acc: 0.9997 - val_loss: 0.0843 - val_acc: 0.9796\n",
      "Epoch 13/50\n",
      "48000/48000 [==============================] - 103s 2ms/step - loss: 0.0026 - acc: 0.9998 - val_loss: 0.0883 - val_acc: 0.9794\n",
      "Epoch 14/50\n",
      "48000/48000 [==============================] - 100s 2ms/step - loss: 0.0021 - acc: 0.9999 - val_loss: 0.0892 - val_acc: 0.9797\n",
      "Epoch 15/50\n",
      "48000/48000 [==============================] - 103s 2ms/step - loss: 0.0017 - acc: 1.0000 - val_loss: 0.0888 - val_acc: 0.9795\n",
      "Epoch 16/50\n",
      "48000/48000 [==============================] - 96s 2ms/step - loss: 0.0014 - acc: 0.9999 - val_loss: 0.0902 - val_acc: 0.9798\n",
      "Epoch 17/50\n",
      "48000/48000 [==============================] - 98s 2ms/step - loss: 0.0012 - acc: 1.0000 - val_loss: 0.0914 - val_acc: 0.9797\n",
      "Epoch 18/50\n",
      "48000/48000 [==============================] - 97s 2ms/step - loss: 0.0011 - acc: 1.0000 - val_loss: 0.0919 - val_acc: 0.9799\n",
      "Epoch 19/50\n",
      "48000/48000 [==============================] - 95s 2ms/step - loss: 9.4894e-04 - acc: 1.0000 - val_loss: 0.0929 - val_acc: 0.9793\n",
      "Epoch 20/50\n",
      "48000/48000 [==============================] - 98s 2ms/step - loss: 8.3451e-04 - acc: 1.0000 - val_loss: 0.0933 - val_acc: 0.9800\n",
      "Epoch 21/50\n",
      "48000/48000 [==============================] - 99s 2ms/step - loss: 7.6753e-04 - acc: 1.0000 - val_loss: 0.0937 - val_acc: 0.9800\n",
      "Epoch 22/50\n",
      "48000/48000 [==============================] - 109s 2ms/step - loss: 6.9188e-04 - acc: 1.0000 - val_loss: 0.0946 - val_acc: 0.9797\n",
      "Epoch 23/50\n",
      "48000/48000 [==============================] - 102s 2ms/step - loss: 6.3108e-04 - acc: 1.0000 - val_loss: 0.0954 - val_acc: 0.9804\n",
      "Epoch 24/50\n",
      "48000/48000 [==============================] - 102s 2ms/step - loss: 5.8219e-04 - acc: 1.0000 - val_loss: 0.0958 - val_acc: 0.9802\n",
      "Epoch 25/50\n",
      "48000/48000 [==============================] - 101s 2ms/step - loss: 5.3497e-04 - acc: 1.0000 - val_loss: 0.0960 - val_acc: 0.9801\n",
      "Epoch 26/50\n",
      "48000/48000 [==============================] - 101s 2ms/step - loss: 4.9968e-04 - acc: 1.0000 - val_loss: 0.0973 - val_acc: 0.9801\n",
      "Epoch 27/50\n",
      "48000/48000 [==============================] - 101s 2ms/step - loss: 4.6322e-04 - acc: 1.0000 - val_loss: 0.0974 - val_acc: 0.9802\n",
      "Epoch 28/50\n",
      "48000/48000 [==============================] - 107s 2ms/step - loss: 4.3533e-04 - acc: 1.0000 - val_loss: 0.0974 - val_acc: 0.9801\n",
      "Epoch 29/50\n",
      "48000/48000 [==============================] - 98s 2ms/step - loss: 4.0618e-04 - acc: 1.0000 - val_loss: 0.0983 - val_acc: 0.9802\n",
      "Epoch 30/50\n",
      "48000/48000 [==============================] - 97s 2ms/step - loss: 3.8385e-04 - acc: 1.0000 - val_loss: 0.0986 - val_acc: 0.9803\n",
      "Epoch 31/50\n",
      "48000/48000 [==============================] - 98s 2ms/step - loss: 3.5921e-04 - acc: 1.0000 - val_loss: 0.0990 - val_acc: 0.9802\n",
      "Epoch 32/50\n",
      "48000/48000 [==============================] - 96s 2ms/step - loss: 3.4122e-04 - acc: 1.0000 - val_loss: 0.0996 - val_acc: 0.9802\n",
      "Epoch 33/50\n",
      "48000/48000 [==============================] - 94s 2ms/step - loss: 3.2189e-04 - acc: 1.0000 - val_loss: 0.0997 - val_acc: 0.9802\n",
      "Epoch 34/50\n",
      "48000/48000 [==============================] - 106s 2ms/step - loss: 3.0517e-04 - acc: 1.0000 - val_loss: 0.1006 - val_acc: 0.9801\n",
      "Epoch 35/50\n",
      "48000/48000 [==============================] - 106s 2ms/step - loss: 2.9011e-04 - acc: 1.0000 - val_loss: 0.1008 - val_acc: 0.9802\n",
      "Epoch 36/50\n",
      "48000/48000 [==============================] - 103s 2ms/step - loss: 2.7640e-04 - acc: 1.0000 - val_loss: 0.1011 - val_acc: 0.9802\n",
      "Epoch 37/50\n",
      "48000/48000 [==============================] - 100s 2ms/step - loss: 2.6439e-04 - acc: 1.0000 - val_loss: 0.1015 - val_acc: 0.9802\n",
      "Epoch 38/50\n",
      "48000/48000 [==============================] - 99s 2ms/step - loss: 2.5242e-04 - acc: 1.0000 - val_loss: 0.1018 - val_acc: 0.9802\n",
      "Epoch 39/50\n",
      "48000/48000 [==============================] - 100s 2ms/step - loss: 2.4080e-04 - acc: 1.0000 - val_loss: 0.1020 - val_acc: 0.9802\n",
      "Epoch 40/50\n",
      "48000/48000 [==============================] - 105s 2ms/step - loss: 2.2979e-04 - acc: 1.0000 - val_loss: 0.1021 - val_acc: 0.9802\n",
      "Epoch 41/50\n",
      "48000/48000 [==============================] - 107s 2ms/step - loss: 2.2178e-04 - acc: 1.0000 - val_loss: 0.1024 - val_acc: 0.9802\n",
      "Epoch 42/50\n",
      "48000/48000 [==============================] - 102s 2ms/step - loss: 2.1279e-04 - acc: 1.0000 - val_loss: 0.1027 - val_acc: 0.9803\n",
      "Epoch 43/50\n",
      "48000/48000 [==============================] - 103s 2ms/step - loss: 2.0451e-04 - acc: 1.0000 - val_loss: 0.1030 - val_acc: 0.9804\n",
      "Epoch 44/50\n",
      "48000/48000 [==============================] - 98s 2ms/step - loss: 1.9679e-04 - acc: 1.0000 - val_loss: 0.1035 - val_acc: 0.9803\n",
      "Epoch 45/50\n",
      "48000/48000 [==============================] - 104s 2ms/step - loss: 1.8912e-04 - acc: 1.0000 - val_loss: 0.1035 - val_acc: 0.9803\n",
      "Epoch 46/50\n",
      "48000/48000 [==============================] - 100s 2ms/step - loss: 1.8260e-04 - acc: 1.0000 - val_loss: 0.1037 - val_acc: 0.9804\n",
      "Epoch 47/50\n",
      "48000/48000 [==============================] - 40s 836us/step - loss: 1.7639e-04 - acc: 1.0000 - val_loss: 0.1041 - val_acc: 0.9804\n",
      "Epoch 48/50\n",
      "48000/48000 [==============================] - 38s 788us/step - loss: 1.6989e-04 - acc: 1.0000 - val_loss: 0.1041 - val_acc: 0.9801\n",
      "Epoch 49/50\n",
      "48000/48000 [==============================] - 33s 680us/step - loss: 1.6457e-04 - acc: 1.0000 - val_loss: 0.1046 - val_acc: 0.9802\n",
      "Epoch 50/50\n",
      "48000/48000 [==============================] - 38s 797us/step - loss: 1.5880e-04 - acc: 1.0000 - val_loss: 0.1050 - val_acc: 0.9801\n"
     ]
    }
   ],
   "source": [
    "history = model.fit(x_train, y_train, batch_size = 32, epochs = 50, verbose = 1, validation_split = 0.2, shuffle = True)"
   ]
  },
  {
   "cell_type": "code",
   "execution_count": 14,
   "metadata": {},
   "outputs": [
    {
     "name": "stdout",
     "output_type": "stream",
     "text": [
      "Test Accuracy: 100.0 %\n",
      "Validation Accuracy: 98.00833333333333 %\n"
     ]
    }
   ],
   "source": [
    "print \"Test Accuracy:\",history.history['acc'][-1]*100,\"%\"\n",
    "print \"Validation Accuracy:\",history.history['val_acc'][-1] * 100,\"%\""
   ]
  },
  {
   "cell_type": "code",
   "execution_count": 15,
   "metadata": {},
   "outputs": [
    {
     "data": {
      "image/png": "[encoded data removed]",
      "text/plain": [
       "<matplotlib.figure.Figure at 0x7ffa3c20b2d0>"
      ]
     },
     "metadata": {},
     "output_type": "display_data"
    }
   ],
   "source": [
    "plt.plot(history.history['acc'])\n",
    "plt.plot(history.history['val_acc'])\n",
    "plt.title('model accuracy')\n",
    "plt.ylabel('accuracy')\n",
    "plt.xlabel('epoch')\n",
    "plt.legend(['train', 'validation'], loc='upper left')\n",
    "plt.show()"
   ]
  },
  {
   "cell_type": "code",
   "execution_count": 16,
   "metadata": {},
   "outputs": [
    {
     "data": {
      "image/png": "[encoded data removed]",
      "text/plain": [
       "<matplotlib.figure.Figure at 0x7ffa598bfa50>"
      ]
     },
     "metadata": {},
     "output_type": "display_data"
    }
   ],
   "source": [
    "plt.plot(history.history['loss'])\n",
    "plt.plot(history.history['val_loss'])\n",
    "plt.title('model loss')\n",
    "plt.ylabel('loss')\n",
    "plt.xlabel('epoch')\n",
    "plt.legend(['train', 'validation'], loc='upper right')\n",
    "plt.show()"
   ]
  },
  {
   "cell_type": "code",
   "execution_count": 17,
   "metadata": {},
   "outputs": [
    {
     "name": "stdout",
     "output_type": "stream",
     "text": [
      "_________________________________________________________________\n",
      "Layer (type)                 Output Shape              Param #   \n",
      "=================================================================\n",
      "dense_6 (Dense)              (None, 784)               615440    \n",
      "_________________________________________________________________\n",
      "dense_7 (Dense)              (None, 196)               153860    \n",
      "_________________________________________________________________\n",
      "dense_8 (Dense)              (None, 49)                9653      \n",
      "_________________________________________________________________\n",
      "dense_9 (Dense)              (None, 24)                1200      \n",
      "_________________________________________________________________\n",
      "dense_10 (Dense)             (None, 10)                250       \n",
      "=================================================================\n",
      "Total params: 780,403\n",
      "Trainable params: 780,403\n",
      "Non-trainable params: 0\n",
      "_________________________________________________________________\n"
     ]
    }
   ],
   "source": [
    "model.summary()"
   ]
  },
  {
   "cell_type": "code",
   "execution_count": 18,
   "metadata": {},
   "outputs": [
    {
     "name": "stdout",
     "output_type": "stream",
     "text": [
      "Test Accuracy: 98.34 %\n"
     ]
    }
   ],
   "source": [
    "eval = model.evaluate(x_test, y_test, verbose = 0)\n",
    "print \"Test Accuracy:\", eval[1]*100,\"%\"\n"
   ]
  },
  {
   "cell_type": "code",
   "execution_count": null,
   "metadata": {},
   "outputs": [],
   "source": []
  }
 ],
 "metadata": {
  "kernelspec": {
   "display_name": "Python 2",
   "language": "python",
   "name": "python2"
  }
 },
 "nbformat": 4,
 "nbformat_minor": 2
}
