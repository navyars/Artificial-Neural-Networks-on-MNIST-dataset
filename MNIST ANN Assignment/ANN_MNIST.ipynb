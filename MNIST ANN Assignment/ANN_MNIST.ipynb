{
 "cells": [
  {
   "cell_type": "code",
   "execution_count": 53,
   "metadata": {},
   "outputs": [],
   "source": [
    "import keras\n",
    "from keras.datasets import mnist\n",
    "from keras.models import Sequential\n",
    "from keras.layers import Dense\n",
    "from keras import optimizers\n",
    "from keras import regularizers\n",
    "from keras.utils.np_utils import to_categorical\n",
    "from matplotlib import pyplot as plt\n"
   ]
  },
  {
   "cell_type": "code",
   "execution_count": 54,
   "metadata": {},
   "outputs": [
    {
     "name": "stdout",
     "output_type": "stream",
     "text": [
      "Dimensions of Train data: (60000, 28, 28)\n",
      "Dimensions of Train label: (60000,)\n",
      "Dimensions of Test data: (10000, 28, 28)\n",
      "Dimensions of Test label: (10000,)\n"
     ]
    }
   ],
   "source": [
    "(x_train, y_train), (x_test, y_test) = mnist.load_data()\n",
    "print \"Dimensions of Train data:\", x_train.shape\n",
    "print \"Dimensions of Train label:\", y_train.shape\n",
    "print \"Dimensions of Test data:\", x_test.shape\n",
    "print \"Dimensions of Test label:\", y_test.shape"
   ]
  },
  {
   "cell_type": "code",
   "execution_count": 55,
   "metadata": {},
   "outputs": [
    {
     "name": "stdout",
     "output_type": "stream",
     "text": [
      "Dimensions of Train data: (60000, 784)\n",
      "Dimensions of in Test data: (10000, 784)\n",
      "Dimensions of Train label: (60000, 10)\n",
      "Dimensions of Test label: (10000, 10)\n"
     ]
    }
   ],
   "source": [
    "x_train = x_train.reshape(x_train.shape[0],28*28)\n",
    "x_test = x_test.reshape(x_test.shape[0],28*28)\n",
    "\n",
    "x_train = x_train.astype('float32')\n",
    "x_test = x_test.astype('float32')\n",
    "x_train = x_train/255\n",
    "x_test = x_test/255\n",
    "\n",
    "y_train = to_categorical(y_train,num_classes = 10)\n",
    "y_test = to_categorical(y_test,num_classes = 10)\n",
    "\n",
    "print \"Dimensions of Train data:\", x_train.shape\n",
    "print \"Dimensions of in Test data:\", x_test.shape\n",
    "print \"Dimensions of Train label:\", y_train.shape\n",
    "print \"Dimensions of Test label:\", y_test.shape"
   ]
  },
  {
   "cell_type": "code",
   "execution_count": 56,
   "metadata": {},
   "outputs": [],
   "source": [
    "model = Sequential()\n",
    "model.add(Dense(28*28, activation = 'relu', use_bias = True, bias_initializer = 'zeros', input_shape = (28*28,)))\n",
    "keras.layers.Dropout(0.01)\n",
    "# model.add(Dense(196, activation = 'relu', use_bias = True, bias_initializer = 'zeros'))\n",
    "# model.add(Dense(49, activation = 'relu', use_bias = True, bias_initializer = 'zeros'))\n",
    "# model.add(Dense(24, activation = 'relu', use_bias = True, bias_initializer = 'zeros'))\n",
    "# model.add(Dense(14*14,activation = 'relu'))\n",
    "model.add(Dense(10, use_bias = True, bias_initializer = 'zeros', activation = 'softmax'))"
   ]
  },
  {
   "cell_type": "code",
   "execution_count": 57,
   "metadata": {},
   "outputs": [],
   "source": [
    "# sgd = keras.optimizers.SGD(lr=0.01, momentum=0.0, decay=0.0, nesterov=False)\n",
    "ada = keras.optimizers.Adagrad(lr=0.01, epsilon=None, decay=0.0)\n",
    "model.compile(optimizer = ada, loss = 'categorical_crossentropy', metrics = ['accuracy'])"
   ]
  },
  {
   "cell_type": "code",
   "execution_count": 58,
   "metadata": {},
   "outputs": [
    {
     "name": "stdout",
     "output_type": "stream",
     "text": [
      "Train on 48000 samples, validate on 12000 samples\n",
      "Epoch 1/50\n",
      "48000/48000 [==============================] - 31s 654us/step - loss: 0.2107 - acc: 0.9382 - val_loss: 0.1238 - val_acc: 0.9652\n",
      "Epoch 2/50\n",
      "48000/48000 [==============================] - 30s 630us/step - loss: 0.0997 - acc: 0.9718 - val_loss: 0.1004 - val_acc: 0.9714\n",
      "Epoch 3/50\n",
      "48000/48000 [==============================] - 45s 929us/step - loss: 0.0729 - acc: 0.9803 - val_loss: 0.0936 - val_acc: 0.9721\n",
      "Epoch 4/50\n",
      "48000/48000 [==============================] - 31s 654us/step - loss: 0.0580 - acc: 0.9846 - val_loss: 0.0850 - val_acc: 0.9738\n",
      "Epoch 5/50\n",
      "48000/48000 [==============================] - 36s 753us/step - loss: 0.0482 - acc: 0.9877 - val_loss: 0.0803 - val_acc: 0.9753\n",
      "Epoch 6/50\n",
      "48000/48000 [==============================] - 49s 1ms/step - loss: 0.0407 - acc: 0.9898 - val_loss: 0.0785 - val_acc: 0.9761\n",
      "Epoch 7/50\n",
      "48000/48000 [==============================] - 70s 1ms/step - loss: 0.0353 - acc: 0.9917 - val_loss: 0.0769 - val_acc: 0.9766\n",
      "Epoch 8/50\n",
      "48000/48000 [==============================] - 65s 1ms/step - loss: 0.0308 - acc: 0.9934 - val_loss: 0.0734 - val_acc: 0.9770\n",
      "Epoch 9/50\n",
      "48000/48000 [==============================] - 72s 1ms/step - loss: 0.0271 - acc: 0.9945 - val_loss: 0.0732 - val_acc: 0.9774\n",
      "Epoch 10/50\n",
      "48000/48000 [==============================] - 97s 2ms/step - loss: 0.0241 - acc: 0.9955 - val_loss: 0.0725 - val_acc: 0.9776\n",
      "Epoch 11/50\n",
      "48000/48000 [==============================] - 85s 2ms/step - loss: 0.0217 - acc: 0.9962 - val_loss: 0.0702 - val_acc: 0.9782\n",
      "Epoch 12/50\n",
      "48000/48000 [==============================] - 97s 2ms/step - loss: 0.0196 - acc: 0.9970 - val_loss: 0.0697 - val_acc: 0.9782\n",
      "Epoch 13/50\n",
      "48000/48000 [==============================] - 107s 2ms/step - loss: 0.0178 - acc: 0.9972 - val_loss: 0.0689 - val_acc: 0.9788\n",
      "Epoch 14/50\n",
      "48000/48000 [==============================] - 98s 2ms/step - loss: 0.0162 - acc: 0.9977 - val_loss: 0.0695 - val_acc: 0.9784\n",
      "Epoch 15/50\n",
      "48000/48000 [==============================] - 67s 1ms/step - loss: 0.0149 - acc: 0.9980 - val_loss: 0.0694 - val_acc: 0.9788\n",
      "Epoch 16/50\n",
      "48000/48000 [==============================] - 71s 1ms/step - loss: 0.0136 - acc: 0.9985 - val_loss: 0.0691 - val_acc: 0.9782\n",
      "Epoch 17/50\n",
      "48000/48000 [==============================] - 69s 1ms/step - loss: 0.0127 - acc: 0.9985 - val_loss: 0.0686 - val_acc: 0.9792\n",
      "Epoch 18/50\n",
      "48000/48000 [==============================] - 64s 1ms/step - loss: 0.0117 - acc: 0.9989 - val_loss: 0.0687 - val_acc: 0.9790\n",
      "Epoch 19/50\n",
      "48000/48000 [==============================] - 70s 1ms/step - loss: 0.0109 - acc: 0.9990 - val_loss: 0.0676 - val_acc: 0.9797\n",
      "Epoch 20/50\n",
      "48000/48000 [==============================] - 61s 1ms/step - loss: 0.0102 - acc: 0.9992 - val_loss: 0.0675 - val_acc: 0.9788\n",
      "Epoch 21/50\n",
      "48000/48000 [==============================] - 70s 1ms/step - loss: 0.0095 - acc: 0.9994 - val_loss: 0.0673 - val_acc: 0.9798\n",
      "Epoch 22/50\n",
      "48000/48000 [==============================] - 64s 1ms/step - loss: 0.0089 - acc: 0.9993 - val_loss: 0.0681 - val_acc: 0.9795\n",
      "Epoch 23/50\n",
      "48000/48000 [==============================] - 63s 1ms/step - loss: 0.0084 - acc: 0.9995 - val_loss: 0.0681 - val_acc: 0.9790\n",
      "Epoch 24/50\n",
      "48000/48000 [==============================] - 64s 1ms/step - loss: 0.0079 - acc: 0.9996 - val_loss: 0.0675 - val_acc: 0.9795\n",
      "Epoch 25/50\n",
      "48000/48000 [==============================] - 84s 2ms/step - loss: 0.0075 - acc: 0.9996 - val_loss: 0.0677 - val_acc: 0.9801\n",
      "Epoch 26/50\n",
      "48000/48000 [==============================] - 61s 1ms/step - loss: 0.0070 - acc: 0.9997 - val_loss: 0.0679 - val_acc: 0.9795\n",
      "Epoch 27/50\n",
      "48000/48000 [==============================] - 68s 1ms/step - loss: 0.0067 - acc: 0.9997 - val_loss: 0.0679 - val_acc: 0.9800\n",
      "Epoch 28/50\n",
      "48000/48000 [==============================] - 72s 1ms/step - loss: 0.0063 - acc: 0.9997 - val_loss: 0.0682 - val_acc: 0.9789\n",
      "Epoch 29/50\n",
      "48000/48000 [==============================] - 64s 1ms/step - loss: 0.0060 - acc: 0.9998 - val_loss: 0.0683 - val_acc: 0.9802\n",
      "Epoch 30/50\n",
      "48000/48000 [==============================] - 63s 1ms/step - loss: 0.0057 - acc: 0.9998 - val_loss: 0.0684 - val_acc: 0.9800\n",
      "Epoch 31/50\n",
      "48000/48000 [==============================] - 58s 1ms/step - loss: 0.0055 - acc: 0.9998 - val_loss: 0.0685 - val_acc: 0.9798\n",
      "Epoch 32/50\n",
      "48000/48000 [==============================] - 55s 1ms/step - loss: 0.0052 - acc: 0.9998 - val_loss: 0.0684 - val_acc: 0.9797\n",
      "Epoch 33/50\n",
      "48000/48000 [==============================] - 62s 1ms/step - loss: 0.0050 - acc: 0.9999 - val_loss: 0.0686 - val_acc: 0.9802\n",
      "Epoch 34/50\n",
      "48000/48000 [==============================] - 58s 1ms/step - loss: 0.0048 - acc: 0.9999 - val_loss: 0.0684 - val_acc: 0.9796\n",
      "Epoch 35/50\n",
      "48000/48000 [==============================] - 71s 1ms/step - loss: 0.0046 - acc: 0.9998 - val_loss: 0.0685 - val_acc: 0.9804\n",
      "Epoch 36/50\n",
      "48000/48000 [==============================] - 74s 2ms/step - loss: 0.0044 - acc: 0.9999 - val_loss: 0.0690 - val_acc: 0.9798\n",
      "Epoch 37/50\n",
      "48000/48000 [==============================] - 72s 1ms/step - loss: 0.0042 - acc: 0.9999 - val_loss: 0.0687 - val_acc: 0.9799\n",
      "Epoch 38/50\n",
      "48000/48000 [==============================] - 69s 1ms/step - loss: 0.0041 - acc: 0.9999 - val_loss: 0.0690 - val_acc: 0.9798\n",
      "Epoch 39/50\n",
      "48000/48000 [==============================] - 71s 1ms/step - loss: 0.0039 - acc: 0.9999 - val_loss: 0.0690 - val_acc: 0.9802\n",
      "Epoch 40/50\n",
      "48000/48000 [==============================] - 81s 2ms/step - loss: 0.0038 - acc: 0.9999 - val_loss: 0.0690 - val_acc: 0.9798\n",
      "Epoch 41/50\n",
      "48000/48000 [==============================] - 81s 2ms/step - loss: 0.0037 - acc: 0.9999 - val_loss: 0.0691 - val_acc: 0.9800\n",
      "Epoch 42/50\n",
      "48000/48000 [==============================] - 76s 2ms/step - loss: 0.0035 - acc: 1.0000 - val_loss: 0.0692 - val_acc: 0.9805\n",
      "Epoch 43/50\n",
      "48000/48000 [==============================] - 78s 2ms/step - loss: 0.0034 - acc: 0.9999 - val_loss: 0.0696 - val_acc: 0.9802\n",
      "Epoch 44/50\n",
      "48000/48000 [==============================] - 77s 2ms/step - loss: 0.0033 - acc: 1.0000 - val_loss: 0.0695 - val_acc: 0.9801\n",
      "Epoch 45/50\n",
      "48000/48000 [==============================] - 73s 2ms/step - loss: 0.0032 - acc: 1.0000 - val_loss: 0.0696 - val_acc: 0.9798\n",
      "Epoch 46/50\n",
      "48000/48000 [==============================] - 74s 2ms/step - loss: 0.0031 - acc: 1.0000 - val_loss: 0.0694 - val_acc: 0.9805\n",
      "Epoch 47/50\n",
      "48000/48000 [==============================] - 73s 2ms/step - loss: 0.0030 - acc: 1.0000 - val_loss: 0.0696 - val_acc: 0.9801\n",
      "Epoch 48/50\n",
      "48000/48000 [==============================] - 75s 2ms/step - loss: 0.0029 - acc: 1.0000 - val_loss: 0.0700 - val_acc: 0.9802\n",
      "Epoch 49/50\n",
      "48000/48000 [==============================] - 69s 1ms/step - loss: 0.0028 - acc: 1.0000 - val_loss: 0.0702 - val_acc: 0.9807\n",
      "Epoch 50/50\n",
      "48000/48000 [==============================] - 41s 853us/step - loss: 0.0028 - acc: 1.0000 - val_loss: 0.0699 - val_acc: 0.9803\n"
     ]
    }
   ],
   "source": [
    "history = model.fit(x_train, y_train, batch_size = 32, epochs = 50, verbose = 1, validation_split = 0.2, shuffle = True)"
   ]
  },
  {
   "cell_type": "code",
   "execution_count": 48,
   "metadata": {},
   "outputs": [
    {
     "name": "stdout",
     "output_type": "stream",
     "text": [
      "Test Accuracy: 94.86666666666666 %\n",
      "Validation Accuracy: 95.39166666666667 %\n"
     ]
    }
   ],
   "source": [
    "print \"Test Accuracy:\",history.history['acc'][-1]*100,\"%\"\n",
    "print \"Validation Accuracy:\",history.history['val_acc'][-1] * 100,\"%\""
   ]
  },
  {
   "cell_type": "code",
   "execution_count": 49,
   "metadata": {},
   "outputs": [
    {
     "data": {
      "image/png": "[encoded data removed]",
      "text/plain": [
       "<matplotlib.figure.Figure at 0x7f2f47e14a50>"
      ]
     },
     "metadata": {},
     "output_type": "display_data"
    }
   ],
   "source": [
    "plt.plot(history.history['acc'])\n",
    "plt.plot(history.history['val_acc'])\n",
    "plt.title('model accuracy')\n",
    "plt.ylabel('accuracy')\n",
    "plt.xlabel('epoch')\n",
    "plt.legend(['train', 'validation'], loc='upper left')\n",
    "plt.show()"
   ]
  },
  {
   "cell_type": "code",
   "execution_count": 50,
   "metadata": {},
   "outputs": [
    {
     "data": {
      "image/png": "[encoded data removed]",
      "text/plain": [
       "<matplotlib.figure.Figure at 0x7f2f46864b10>"
      ]
     },
     "metadata": {},
     "output_type": "display_data"
    }
   ],
   "source": [
    "plt.plot(history.history['loss'])\n",
    "plt.plot(history.history['val_loss'])\n",
    "plt.title('model loss')\n",
    "plt.ylabel('loss')\n",
    "plt.xlabel('epoch')\n",
    "plt.legend(['train', 'validation'], loc='upper right')\n",
    "plt.show()"
   ]
  },
  {
   "cell_type": "code",
   "execution_count": 51,
   "metadata": {},
   "outputs": [
    {
     "name": "stdout",
     "output_type": "stream",
     "text": [
      "_________________________________________________________________\n",
      "Layer (type)                 Output Shape              Param #   \n",
      "=================================================================\n",
      "dense_7 (Dense)              (None, 784)               615440    \n",
      "_________________________________________________________________\n",
      "dense_8 (Dense)              (None, 10)                7850      \n",
      "=================================================================\n",
      "Total params: 623,290\n",
      "Trainable params: 623,290\n",
      "Non-trainable params: 0\n",
      "_________________________________________________________________\n"
     ]
    }
   ],
   "source": [
    "model.summary()"
   ]
  },
  {
   "cell_type": "code",
   "execution_count": 52,
   "metadata": {},
   "outputs": [
    {
     "name": "stdout",
     "output_type": "stream",
     "text": [
      "Test Accuracy: 95.13000000000001 %\n"
     ]
    }
   ],
   "source": [
    "eval = model.evaluate(x_test, y_test, verbose = 0)\n",
    "print \"Test Accuracy:\", eval[1]*100,\"%\"\n"
   ]
  },
  {
   "cell_type": "code",
   "execution_count": null,
   "metadata": {},
   "outputs": [],
   "source": []
  }
 ],
 "metadata": {
  "kernelspec": {
   "display_name": "Python 2",
   "language": "python",
   "name": "python2"
  },
  "language_info": {
   "codemirror_mode": {
    "name": "ipython",
    "version": 2
   },
   "file_extension": ".py",
   "mimetype": "text/x-python",
   "name": "python",
   "nbconvert_exporter": "python",
   "pygments_lexer": "ipython2",
   "version": "2.7.9"
  }
 },
 "nbformat": 4,
 "nbformat_minor": 2
}
