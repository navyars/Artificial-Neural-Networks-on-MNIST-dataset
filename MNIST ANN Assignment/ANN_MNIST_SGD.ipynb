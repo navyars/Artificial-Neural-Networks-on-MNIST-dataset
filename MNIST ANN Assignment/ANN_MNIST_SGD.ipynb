{
 "cells": [
  {
   "cell_type": "code",
   "execution_count": 1,
   "metadata": {},
   "outputs": [
    {
     "name": "stderr",
     "output_type": "stream",
     "text": [
      "Using TensorFlow backend.\n"
     ]
    }
   ],
   "source": [
    "import keras\n",
    "from keras.datasets import mnist\n",
    "from keras.models import Sequential\n",
    "from keras.layers import Dense\n",
    "from keras import optimizers\n",
    "from keras import regularizers\n",
    "from keras.utils.np_utils import to_categorical\n",
    "from matplotlib import pyplot as plt\n"
   ]
  },
  {
   "cell_type": "code",
   "execution_count": 2,
   "metadata": {},
   "outputs": [
    {
     "name": "stdout",
     "output_type": "stream",
     "text": [
      "Dimensions of Train data: (60000, 28, 28)\n",
      "Dimensions of Train label: (60000,)\n",
      "Dimensions of Test data: (10000, 28, 28)\n",
      "Dimensions of Test label: (10000,)\n"
     ]
    }
   ],
   "source": [
    "(x_train, y_train), (x_test, y_test) = mnist.load_data()\n",
    "print \"Dimensions of Train data:\", x_train.shape\n",
    "print \"Dimensions of Train label:\", y_train.shape\n",
    "print \"Dimensions of Test data:\", x_test.shape\n",
    "print \"Dimensions of Test label:\", y_test.shape"
   ]
  },
  {
   "cell_type": "code",
   "execution_count": 3,
   "metadata": {},
   "outputs": [
    {
     "name": "stdout",
     "output_type": "stream",
     "text": [
      "Dimensions of Train data: (60000, 784)\n",
      "Dimensions of in Test data: (10000, 784)\n",
      "Dimensions of Train label: (60000, 10)\n",
      "Dimensions of Test label: (10000, 10)\n"
     ]
    }
   ],
   "source": [
    "x_train = x_train.reshape(x_train.shape[0],28*28)\n",
    "x_test = x_test.reshape(x_test.shape[0],28*28)\n",
    "\n",
    "x_train = x_train.astype('float32')\n",
    "x_test = x_test.astype('float32')\n",
    "x_train = x_train/255\n",
    "x_test = x_test/255\n",
    "\n",
    "y_train = to_categorical(y_train,num_classes = 10)\n",
    "y_test = to_categorical(y_test,num_classes = 10)\n",
    "\n",
    "print \"Dimensions of Train data:\", x_train.shape\n",
    "print \"Dimensions of in Test data:\", x_test.shape\n",
    "print \"Dimensions of Train label:\", y_train.shape\n",
    "print \"Dimensions of Test label:\", y_test.shape"
   ]
  },
  {
   "cell_type": "code",
   "execution_count": 4,
   "metadata": {},
   "outputs": [],
   "source": [
    "model = Sequential()\n",
    "model.add(Dense(28*28, activation = 'relu', use_bias = True, bias_initializer = 'zeros', input_shape = (28*28,)))\n",
    "keras.layers.Dropout(0.01)\n",
    "# model.add(Dense(196, activation = 'relu', use_bias = True, bias_initializer = 'zeros'))\n",
    "# model.add(Dense(49, activation = 'relu', use_bias = True, bias_initializer = 'zeros'))\n",
    "# model.add(Dense(24, activation = 'relu', use_bias = True, bias_initializer = 'zeros'))\n",
    "# model.add(Dense(14*14,activation = 'relu'))\n",
    "model.add(Dense(10, use_bias = True, bias_initializer = 'zeros', activation = 'softmax'))"
   ]
  },
  {
   "cell_type": "code",
   "execution_count": 5,
   "metadata": {},
   "outputs": [],
   "source": [
    "sgd = keras.optimizers.SGD(lr=0.01, momentum=0.0, decay=0.0, nesterov=False)\n",
    "# ada = keras.optimizers.Adagrad(lr=0.01, epsilon=None, decay=0.0)\n",
    "model.compile(optimizer = sgd, loss = 'categorical_crossentropy', metrics = ['accuracy'])"
   ]
  },
  {
   "cell_type": "code",
   "execution_count": 6,
   "metadata": {},
   "outputs": [
    {
     "name": "stdout",
     "output_type": "stream",
     "text": [
      "Train on 48000 samples, validate on 12000 samples\n",
      "Epoch 1/50\n",
      "48000/48000 [==============================] - 89s 2ms/step - loss: 0.6523 - acc: 0.8437 - val_loss: 0.3585 - val_acc: 0.9062\n",
      "Epoch 2/50\n",
      "48000/48000 [==============================] - 71s 1ms/step - loss: 0.3432 - acc: 0.9052 - val_loss: 0.2920 - val_acc: 0.9198\n",
      "Epoch 3/50\n",
      "48000/48000 [==============================] - 66s 1ms/step - loss: 0.2922 - acc: 0.9189 - val_loss: 0.2631 - val_acc: 0.9258\n",
      "Epoch 4/50\n",
      "48000/48000 [==============================] - 79s 2ms/step - loss: 0.2608 - acc: 0.9272 - val_loss: 0.2394 - val_acc: 0.9329\n",
      "Epoch 5/50\n",
      "48000/48000 [==============================] - 86s 2ms/step - loss: 0.2372 - acc: 0.9345 - val_loss: 0.2213 - val_acc: 0.9383\n",
      "Epoch 6/50\n",
      "48000/48000 [==============================] - 81s 2ms/step - loss: 0.2184 - acc: 0.9399 - val_loss: 0.2081 - val_acc: 0.9435\n",
      "Epoch 7/50\n",
      "48000/48000 [==============================] - 79s 2ms/step - loss: 0.2020 - acc: 0.9447 - val_loss: 0.1922 - val_acc: 0.9482\n",
      "Epoch 8/50\n",
      "48000/48000 [==============================] - 51s 1ms/step - loss: 0.1879 - acc: 0.9480 - val_loss: 0.1827 - val_acc: 0.9510\n",
      "Epoch 9/50\n",
      "48000/48000 [==============================] - 57s 1ms/step - loss: 0.1758 - acc: 0.9508 - val_loss: 0.1726 - val_acc: 0.9539\n",
      "Epoch 10/50\n",
      "48000/48000 [==============================] - 52s 1ms/step - loss: 0.1648 - acc: 0.9544 - val_loss: 0.1638 - val_acc: 0.9560\n",
      "Epoch 11/50\n",
      "48000/48000 [==============================] - 57s 1ms/step - loss: 0.1553 - acc: 0.9566 - val_loss: 0.1572 - val_acc: 0.9567\n",
      "Epoch 12/50\n",
      "48000/48000 [==============================] - 55s 1ms/step - loss: 0.1469 - acc: 0.9594 - val_loss: 0.1514 - val_acc: 0.9592\n",
      "Epoch 13/50\n",
      "48000/48000 [==============================] - 57s 1ms/step - loss: 0.1392 - acc: 0.9617 - val_loss: 0.1453 - val_acc: 0.9596\n",
      "Epoch 14/50\n",
      "48000/48000 [==============================] - 51s 1ms/step - loss: 0.1322 - acc: 0.9637 - val_loss: 0.1397 - val_acc: 0.9626\n",
      "Epoch 15/50\n",
      "48000/48000 [==============================] - 52s 1ms/step - loss: 0.1257 - acc: 0.9655 - val_loss: 0.1358 - val_acc: 0.9627\n",
      "Epoch 16/50\n",
      "48000/48000 [==============================] - 56s 1ms/step - loss: 0.1198 - acc: 0.9675 - val_loss: 0.1334 - val_acc: 0.9626\n",
      "Epoch 17/50\n",
      "48000/48000 [==============================] - 53s 1ms/step - loss: 0.1145 - acc: 0.9691 - val_loss: 0.1275 - val_acc: 0.9658\n",
      "Epoch 18/50\n",
      "48000/48000 [==============================] - 52s 1ms/step - loss: 0.1097 - acc: 0.9702 - val_loss: 0.1239 - val_acc: 0.9652\n",
      "Epoch 19/50\n",
      "48000/48000 [==============================] - 54s 1ms/step - loss: 0.1052 - acc: 0.9718 - val_loss: 0.1217 - val_acc: 0.9663\n",
      "Epoch 20/50\n",
      "48000/48000 [==============================] - 73s 2ms/step - loss: 0.1010 - acc: 0.9729 - val_loss: 0.1189 - val_acc: 0.9679\n",
      "Epoch 21/50\n",
      "48000/48000 [==============================] - 51s 1ms/step - loss: 0.0969 - acc: 0.9742 - val_loss: 0.1163 - val_acc: 0.9673\n",
      "Epoch 22/50\n",
      "48000/48000 [==============================] - 54s 1ms/step - loss: 0.0934 - acc: 0.9754 - val_loss: 0.1135 - val_acc: 0.9682\n",
      "Epoch 23/50\n",
      "48000/48000 [==============================] - 58s 1ms/step - loss: 0.0900 - acc: 0.9764 - val_loss: 0.1114 - val_acc: 0.9695\n",
      "Epoch 24/50\n",
      "48000/48000 [==============================] - 55s 1ms/step - loss: 0.0867 - acc: 0.9774 - val_loss: 0.1091 - val_acc: 0.9702\n",
      "Epoch 25/50\n",
      "48000/48000 [==============================] - 52s 1ms/step - loss: 0.0838 - acc: 0.9782 - val_loss: 0.1066 - val_acc: 0.9708\n",
      "Epoch 26/50\n",
      "48000/48000 [==============================] - 53s 1ms/step - loss: 0.0810 - acc: 0.9790 - val_loss: 0.1054 - val_acc: 0.9704\n",
      "Epoch 27/50\n",
      "48000/48000 [==============================] - 49s 1ms/step - loss: 0.0782 - acc: 0.9800 - val_loss: 0.1039 - val_acc: 0.9714\n",
      "Epoch 28/50\n",
      "48000/48000 [==============================] - 45s 944us/step - loss: 0.0756 - acc: 0.9808 - val_loss: 0.1012 - val_acc: 0.9722\n",
      "Epoch 29/50\n",
      "48000/48000 [==============================] - 51s 1ms/step - loss: 0.0733 - acc: 0.9812 - val_loss: 0.1008 - val_acc: 0.9726\n",
      "Epoch 30/50\n",
      "48000/48000 [==============================] - 48s 994us/step - loss: 0.0710 - acc: 0.9816 - val_loss: 0.0991 - val_acc: 0.9724\n",
      "Epoch 31/50\n",
      "48000/48000 [==============================] - 48s 1ms/step - loss: 0.0688 - acc: 0.9825 - val_loss: 0.0980 - val_acc: 0.9722\n",
      "Epoch 32/50\n",
      "48000/48000 [==============================] - 56s 1ms/step - loss: 0.0668 - acc: 0.9830 - val_loss: 0.0961 - val_acc: 0.9729\n",
      "Epoch 33/50\n",
      "48000/48000 [==============================] - 59s 1ms/step - loss: 0.0649 - acc: 0.9834 - val_loss: 0.0958 - val_acc: 0.9737\n",
      "Epoch 34/50\n",
      "48000/48000 [==============================] - 60s 1ms/step - loss: 0.0629 - acc: 0.9840 - val_loss: 0.0937 - val_acc: 0.9734\n",
      "Epoch 35/50\n",
      "48000/48000 [==============================] - 58s 1ms/step - loss: 0.0612 - acc: 0.9846 - val_loss: 0.0932 - val_acc: 0.9740\n",
      "Epoch 36/50\n",
      "48000/48000 [==============================] - 58s 1ms/step - loss: 0.0595 - acc: 0.9853 - val_loss: 0.0922 - val_acc: 0.9739\n",
      "Epoch 37/50\n",
      "48000/48000 [==============================] - 56s 1ms/step - loss: 0.0578 - acc: 0.9852 - val_loss: 0.0912 - val_acc: 0.9751\n",
      "Epoch 38/50\n",
      "48000/48000 [==============================] - 63s 1ms/step - loss: 0.0563 - acc: 0.9863 - val_loss: 0.0907 - val_acc: 0.9749\n",
      "Epoch 39/50\n",
      "48000/48000 [==============================] - 62s 1ms/step - loss: 0.0547 - acc: 0.9868 - val_loss: 0.0892 - val_acc: 0.9748\n",
      "Epoch 40/50\n",
      "48000/48000 [==============================] - 65s 1ms/step - loss: 0.0532 - acc: 0.9867 - val_loss: 0.0894 - val_acc: 0.9752\n",
      "Epoch 41/50\n",
      "48000/48000 [==============================] - 63s 1ms/step - loss: 0.0518 - acc: 0.9872 - val_loss: 0.0882 - val_acc: 0.9752\n",
      "Epoch 42/50\n",
      "48000/48000 [==============================] - 65s 1ms/step - loss: 0.0507 - acc: 0.9876 - val_loss: 0.0870 - val_acc: 0.9753\n",
      "Epoch 43/50\n",
      "48000/48000 [==============================] - 61s 1ms/step - loss: 0.0493 - acc: 0.9880 - val_loss: 0.0863 - val_acc: 0.9758\n",
      "Epoch 44/50\n",
      "48000/48000 [==============================] - 61s 1ms/step - loss: 0.0480 - acc: 0.9887 - val_loss: 0.0867 - val_acc: 0.9752\n",
      "Epoch 45/50\n",
      "48000/48000 [==============================] - 60s 1ms/step - loss: 0.0468 - acc: 0.9890 - val_loss: 0.0852 - val_acc: 0.9759\n",
      "Epoch 46/50\n",
      "48000/48000 [==============================] - 60s 1ms/step - loss: 0.0457 - acc: 0.9893 - val_loss: 0.0849 - val_acc: 0.9761\n",
      "Epoch 47/50\n",
      "48000/48000 [==============================] - 60s 1ms/step - loss: 0.0445 - acc: 0.9896 - val_loss: 0.0844 - val_acc: 0.9765\n",
      "Epoch 48/50\n",
      "48000/48000 [==============================] - 60s 1ms/step - loss: 0.0436 - acc: 0.9899 - val_loss: 0.0833 - val_acc: 0.9761\n",
      "Epoch 49/50\n",
      "48000/48000 [==============================] - 57s 1ms/step - loss: 0.0424 - acc: 0.9903 - val_loss: 0.0830 - val_acc: 0.9764\n",
      "Epoch 50/50\n",
      "48000/48000 [==============================] - 58s 1ms/step - loss: 0.0415 - acc: 0.9905 - val_loss: 0.0832 - val_acc: 0.9769\n"
     ]
    }
   ],
   "source": [
    "history = model.fit(x_train, y_train, batch_size = 32, epochs = 50, verbose = 1, validation_split = 0.2, shuffle = True)"
   ]
  },
  {
   "cell_type": "code",
   "execution_count": 7,
   "metadata": {},
   "outputs": [
    {
     "name": "stdout",
     "output_type": "stream",
     "text": [
      "Test Accuracy: 99.04791666666667 %\n",
      "Validation Accuracy: 97.69166666666666 %\n"
     ]
    }
   ],
   "source": [
    "print \"Test Accuracy:\",history.history['acc'][-1]*100,\"%\"\n",
    "print \"Validation Accuracy:\",history.history['val_acc'][-1] * 100,\"%\""
   ]
  },
  {
   "cell_type": "code",
   "execution_count": 8,
   "metadata": {},
   "outputs": [
    {
     "data": {
      "image/png": "[encoded data removed]",
      "text/plain": [
       "<matplotlib.figure.Figure at 0x7fcb23ecac10>"
      ]
     },
     "metadata": {},
     "output_type": "display_data"
    }
   ],
   "source": [
    "plt.plot(history.history['acc'])\n",
    "plt.plot(history.history['val_acc'])\n",
    "plt.title('model accuracy')\n",
    "plt.ylabel('accuracy')\n",
    "plt.xlabel('epoch')\n",
    "plt.legend(['train', 'validation'], loc='upper left')\n",
    "plt.show()"
   ]
  },
  {
   "cell_type": "code",
   "execution_count": 9,
   "metadata": {},
   "outputs": [
    {
     "data": {
      "image/png": "[encoded data removed]",
      "text/plain": [
       "<matplotlib.figure.Figure at 0x7fcb23ecaa50>"
      ]
     },
     "metadata": {},
     "output_type": "display_data"
    }
   ],
   "source": [
    "plt.plot(history.history['loss'])\n",
    "plt.plot(history.history['val_loss'])\n",
    "plt.title('model loss')\n",
    "plt.ylabel('loss')\n",
    "plt.xlabel('epoch')\n",
    "plt.legend(['train', 'validation'], loc='upper right')\n",
    "plt.show()"
   ]
  },
  {
   "cell_type": "code",
   "execution_count": 10,
   "metadata": {},
   "outputs": [
    {
     "name": "stdout",
     "output_type": "stream",
     "text": [
      "_________________________________________________________________\n",
      "Layer (type)                 Output Shape              Param #   \n",
      "=================================================================\n",
      "dense_1 (Dense)              (None, 784)               615440    \n",
      "_________________________________________________________________\n",
      "dense_2 (Dense)              (None, 10)                7850      \n",
      "=================================================================\n",
      "Total params: 623,290\n",
      "Trainable params: 623,290\n",
      "Non-trainable params: 0\n",
      "_________________________________________________________________\n"
     ]
    }
   ],
   "source": [
    "model.summary()"
   ]
  },
  {
   "cell_type": "code",
   "execution_count": 11,
   "metadata": {},
   "outputs": [
    {
     "name": "stdout",
     "output_type": "stream",
     "text": [
      "Test Accuracy: 97.74000000000001 %\n"
     ]
    }
   ],
   "source": [
    "eval = model.evaluate(x_test, y_test, verbose = 0)\n",
    "print \"Test Accuracy:\", eval[1]*100,\"%\"\n"
   ]
  },
  {
   "cell_type": "code",
   "execution_count": null,
   "metadata": {},
   "outputs": [],
   "source": []
  }
 ],
 "metadata": {
  "kernelspec": {
   "display_name": "Python 2",
   "language": "python",
   "name": "python2"
  },
  "language_info": {
   "codemirror_mode": {
    "name": "ipython",
    "version": 2
   },
   "file_extension": ".py",
   "mimetype": "text/x-python",
   "name": "python",
   "nbconvert_exporter": "python",
   "pygments_lexer": "ipython2",
   "version": "2.7.9"
  }
 },
 "nbformat": 4,
 "nbformat_minor": 2
}
