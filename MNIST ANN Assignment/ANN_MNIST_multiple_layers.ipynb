{
 "cells": [
  {
   "cell_type": "code",
   "execution_count": 1,
   "metadata": {},
   "outputs": [
    {
     "name": "stderr",
     "output_type": "stream",
     "text": [
      "Using TensorFlow backend.\n"
     ]
    }
   ],
   "source": [
    "import keras\n",
    "from keras.datasets import mnist\n",
    "from keras.models import Sequential\n",
    "from keras.layers import Dense\n",
    "from keras import optimizers\n",
    "from keras.utils.np_utils import to_categorical\n",
    "from matplotlib import pyplot as plt\n"
   ]
  },
  {
   "cell_type": "code",
   "execution_count": 2,
   "metadata": {},
   "outputs": [
    {
     "name": "stdout",
     "output_type": "stream",
     "text": [
      "Dimensions of Train data: (60000, 28, 28)\n",
      "Dimensions of Train label: (60000,)\n",
      "Dimensions of Test data: (10000, 28, 28)\n",
      "Dimensions of Test label: (10000,)\n"
     ]
    }
   ],
   "source": [
    "(x_train, y_train), (x_test, y_test) = mnist.load_data()\n",
    "print \"Dimensions of Train data:\", x_train.shape\n",
    "print \"Dimensions of Train label:\", y_train.shape\n",
    "print \"Dimensions of Test data:\", x_test.shape\n",
    "print \"Dimensions of Test label:\", y_test.shape"
   ]
  },
  {
   "cell_type": "code",
   "execution_count": 3,
   "metadata": {},
   "outputs": [
    {
     "name": "stdout",
     "output_type": "stream",
     "text": [
      "Dimensions of Train data: (60000, 784)\n",
      "Dimensions of in Test data: (10000, 784)\n",
      "Dimensions of Train label: (60000, 10)\n",
      "Dimensions of Test label: (10000, 10)\n"
     ]
    }
   ],
   "source": [
    "x_train = x_train.reshape(x_train.shape[0],28*28)\n",
    "x_test = x_test.reshape(x_test.shape[0],28*28)\n",
    "\n",
    "x_train = x_train.astype('float32')\n",
    "x_test = x_test.astype('float32')\n",
    "x_train = x_train/255\n",
    "x_test = x_test/255\n",
    "\n",
    "y_train = to_categorical(y_train,num_classes = 10)\n",
    "y_test = to_categorical(y_test,num_classes = 10)\n",
    "\n",
    "print \"Dimensions of Train data:\", x_train.shape\n",
    "print \"Dimensions of in Test data:\", x_test.shape\n",
    "print \"Dimensions of Train label:\", y_train.shape\n",
    "print \"Dimensions of Test label:\", y_test.shape"
   ]
  },
  {
   "cell_type": "code",
   "execution_count": 4,
   "metadata": {},
   "outputs": [],
   "source": [
    "model = Sequential()\n",
    "model.add(Dense(100, activation = 'relu', use_bias = True, bias_initializer = 'zeros', input_shape = (28*28,)))\n",
    "keras.layers.Dropout(0.05)\n",
    "model.add(Dense(250, activation = 'relu', use_bias = True, bias_initializer = 'zeros'))\n",
    "model.add(Dense(125, activation = 'relu', use_bias = True, bias_initializer = 'zeros'))\n",
    "model.add(Dense(60, activation = 'relu', use_bias = True, bias_initializer = 'zeros'))\n",
    "model.add(Dense(10, use_bias = True, bias_initializer = 'zeros', activation = 'softmax'))"
   ]
  },
  {
   "cell_type": "code",
   "execution_count": 5,
   "metadata": {},
   "outputs": [],
   "source": [
    "ada = keras.optimizers.Adagrad(lr=0.01, epsilon=None, decay=0.0)\n",
    "model.compile(optimizer = ada, loss = 'categorical_crossentropy', metrics = ['accuracy'])"
   ]
  },
  {
   "cell_type": "code",
   "execution_count": 6,
   "metadata": {},
   "outputs": [
    {
     "name": "stdout",
     "output_type": "stream",
     "text": [
      "Train on 48000 samples, validate on 12000 samples\n",
      "Epoch 1/50\n",
      "48000/48000 [==============================] - 17s 346us/step - loss: 0.2337 - acc: 0.9277 - val_loss: 0.1300 - val_acc: 0.9631\n",
      "Epoch 2/50\n",
      "48000/48000 [==============================] - 11s 224us/step - loss: 0.1023 - acc: 0.9687 - val_loss: 0.1100 - val_acc: 0.9681\n",
      "Epoch 3/50\n",
      "48000/48000 [==============================] - 11s 223us/step - loss: 0.0732 - acc: 0.9780 - val_loss: 0.0983 - val_acc: 0.9708\n",
      "Epoch 4/50\n",
      "48000/48000 [==============================] - 11s 232us/step - loss: 0.0573 - acc: 0.9836 - val_loss: 0.0914 - val_acc: 0.9728\n",
      "Epoch 5/50\n",
      "48000/48000 [==============================] - 13s 264us/step - loss: 0.0457 - acc: 0.9868 - val_loss: 0.0969 - val_acc: 0.9722\n",
      "Epoch 6/50\n",
      "48000/48000 [==============================] - 13s 280us/step - loss: 0.0378 - acc: 0.9891 - val_loss: 0.0943 - val_acc: 0.9728\n",
      "Epoch 7/50\n",
      "48000/48000 [==============================] - 28s 578us/step - loss: 0.0309 - acc: 0.9919 - val_loss: 0.0925 - val_acc: 0.9729\n",
      "Epoch 8/50\n",
      "48000/48000 [==============================] - 21s 447us/step - loss: 0.0258 - acc: 0.9931 - val_loss: 0.0911 - val_acc: 0.9742\n",
      "Epoch 9/50\n",
      "48000/48000 [==============================] - 11s 228us/step - loss: 0.0216 - acc: 0.9946 - val_loss: 0.0931 - val_acc: 0.9744\n",
      "Epoch 10/50\n",
      "48000/48000 [==============================] - 11s 236us/step - loss: 0.0180 - acc: 0.9957 - val_loss: 0.0941 - val_acc: 0.9742\n",
      "Epoch 11/50\n",
      "48000/48000 [==============================] - 21s 444us/step - loss: 0.0152 - acc: 0.9969 - val_loss: 0.0944 - val_acc: 0.9756\n",
      "Epoch 12/50\n",
      "48000/48000 [==============================] - 13s 281us/step - loss: 0.0127 - acc: 0.9976 - val_loss: 0.0985 - val_acc: 0.9748\n",
      "Epoch 13/50\n",
      "48000/48000 [==============================] - 11s 234us/step - loss: 0.0109 - acc: 0.9979 - val_loss: 0.0993 - val_acc: 0.9748\n",
      "Epoch 14/50\n",
      "48000/48000 [==============================] - 11s 236us/step - loss: 0.0092 - acc: 0.9985 - val_loss: 0.1009 - val_acc: 0.9758\n",
      "Epoch 15/50\n",
      "48000/48000 [==============================] - 11s 235us/step - loss: 0.0079 - acc: 0.9987 - val_loss: 0.1066 - val_acc: 0.9744\n",
      "Epoch 16/50\n",
      "48000/48000 [==============================] - 11s 236us/step - loss: 0.0070 - acc: 0.9990 - val_loss: 0.1036 - val_acc: 0.9753\n",
      "Epoch 17/50\n",
      "48000/48000 [==============================] - 11s 238us/step - loss: 0.0059 - acc: 0.9993 - val_loss: 0.1059 - val_acc: 0.9751\n",
      "Epoch 18/50\n",
      "48000/48000 [==============================] - 14s 287us/step - loss: 0.0051 - acc: 0.9994 - val_loss: 0.1070 - val_acc: 0.9752\n",
      "Epoch 19/50\n",
      "48000/48000 [==============================] - 11s 240us/step - loss: 0.0045 - acc: 0.9995 - val_loss: 0.1087 - val_acc: 0.9747\n",
      "Epoch 20/50\n",
      "48000/48000 [==============================] - 11s 239us/step - loss: 0.0038 - acc: 0.9997 - val_loss: 0.1116 - val_acc: 0.9747\n",
      "Epoch 21/50\n",
      "48000/48000 [==============================] - 12s 240us/step - loss: 0.0035 - acc: 0.9997 - val_loss: 0.1128 - val_acc: 0.9752\n",
      "Epoch 22/50\n",
      "48000/48000 [==============================] - 12s 257us/step - loss: 0.0032 - acc: 0.9997 - val_loss: 0.1149 - val_acc: 0.9750\n",
      "Epoch 23/50\n",
      "48000/48000 [==============================] - 12s 246us/step - loss: 0.0028 - acc: 0.9998 - val_loss: 0.1162 - val_acc: 0.9747\n",
      "Epoch 24/50\n",
      "48000/48000 [==============================] - 14s 289us/step - loss: 0.0025 - acc: 0.9998 - val_loss: 0.1182 - val_acc: 0.9749\n",
      "Epoch 25/50\n",
      "48000/48000 [==============================] - 12s 248us/step - loss: 0.0024 - acc: 0.9999 - val_loss: 0.1179 - val_acc: 0.9743\n",
      "Epoch 26/50\n",
      "48000/48000 [==============================] - 12s 241us/step - loss: 0.0022 - acc: 0.9998 - val_loss: 0.1197 - val_acc: 0.9754\n",
      "Epoch 27/50\n",
      "48000/48000 [==============================] - 12s 244us/step - loss: 0.0020 - acc: 0.9999 - val_loss: 0.1205 - val_acc: 0.9748\n",
      "Epoch 28/50\n",
      "48000/48000 [==============================] - 12s 243us/step - loss: 0.0018 - acc: 0.9999 - val_loss: 0.1218 - val_acc: 0.9752\n",
      "Epoch 29/50\n",
      "48000/48000 [==============================] - 12s 243us/step - loss: 0.0017 - acc: 0.9999 - val_loss: 0.1228 - val_acc: 0.9750\n",
      "Epoch 30/50\n",
      "48000/48000 [==============================] - 12s 246us/step - loss: 0.0016 - acc: 0.9999 - val_loss: 0.1253 - val_acc: 0.9743\n",
      "Epoch 31/50\n",
      "48000/48000 [==============================] - 12s 247us/step - loss: 0.0015 - acc: 0.9999 - val_loss: 0.1246 - val_acc: 0.9749\n",
      "Epoch 32/50\n",
      "48000/48000 [==============================] - 12s 255us/step - loss: 0.0014 - acc: 1.0000 - val_loss: 0.1258 - val_acc: 0.9748\n",
      "Epoch 33/50\n",
      "48000/48000 [==============================] - 12s 257us/step - loss: 0.0013 - acc: 1.0000 - val_loss: 0.1269 - val_acc: 0.9751\n",
      "Epoch 34/50\n",
      "48000/48000 [==============================] - 12s 246us/step - loss: 0.0012 - acc: 1.0000 - val_loss: 0.1286 - val_acc: 0.9748\n",
      "Epoch 35/50\n",
      "48000/48000 [==============================] - 12s 249us/step - loss: 0.0012 - acc: 1.0000 - val_loss: 0.1287 - val_acc: 0.9751\n",
      "Epoch 36/50\n",
      "48000/48000 [==============================] - 12s 246us/step - loss: 0.0011 - acc: 1.0000 - val_loss: 0.1293 - val_acc: 0.9752\n",
      "Epoch 37/50\n",
      "48000/48000 [==============================] - 12s 255us/step - loss: 0.0011 - acc: 1.0000 - val_loss: 0.1307 - val_acc: 0.9746\n",
      "Epoch 38/50\n",
      "48000/48000 [==============================] - 12s 257us/step - loss: 0.0010 - acc: 1.0000 - val_loss: 0.1312 - val_acc: 0.9748\n",
      "Epoch 39/50\n",
      "48000/48000 [==============================] - 13s 272us/step - loss: 9.9555e-04 - acc: 1.0000 - val_loss: 0.1319 - val_acc: 0.9746\n",
      "Epoch 40/50\n",
      "48000/48000 [==============================] - 13s 266us/step - loss: 9.6207e-04 - acc: 1.0000 - val_loss: 0.1326 - val_acc: 0.9746\n",
      "Epoch 41/50\n",
      "48000/48000 [==============================] - 12s 253us/step - loss: 9.2911e-04 - acc: 1.0000 - val_loss: 0.1336 - val_acc: 0.9743\n",
      "Epoch 42/50\n",
      "48000/48000 [==============================] - 12s 251us/step - loss: 9.0074e-04 - acc: 1.0000 - val_loss: 0.1338 - val_acc: 0.9748\n",
      "Epoch 43/50\n",
      "48000/48000 [==============================] - 13s 268us/step - loss: 8.7336e-04 - acc: 1.0000 - val_loss: 0.1348 - val_acc: 0.9744\n",
      "Epoch 44/50\n",
      "48000/48000 [==============================] - 13s 275us/step - loss: 8.4514e-04 - acc: 1.0000 - val_loss: 0.1358 - val_acc: 0.9744\n",
      "Epoch 45/50\n",
      "48000/48000 [==============================] - 12s 256us/step - loss: 8.2772e-04 - acc: 1.0000 - val_loss: 0.1362 - val_acc: 0.9750\n",
      "Epoch 46/50\n",
      "48000/48000 [==============================] - 12s 254us/step - loss: 8.0505e-04 - acc: 1.0000 - val_loss: 0.1365 - val_acc: 0.9747\n",
      "Epoch 47/50\n",
      "48000/48000 [==============================] - 12s 254us/step - loss: 7.8547e-04 - acc: 1.0000 - val_loss: 0.1372 - val_acc: 0.9745\n",
      "Epoch 48/50\n",
      "48000/48000 [==============================] - 12s 253us/step - loss: 7.6849e-04 - acc: 1.0000 - val_loss: 0.1376 - val_acc: 0.9751\n",
      "Epoch 49/50\n",
      "48000/48000 [==============================] - 12s 254us/step - loss: 7.4974e-04 - acc: 1.0000 - val_loss: 0.1382 - val_acc: 0.9746\n",
      "Epoch 50/50\n",
      "48000/48000 [==============================] - 12s 257us/step - loss: 7.3675e-04 - acc: 1.0000 - val_loss: 0.1390 - val_acc: 0.9750\n"
     ]
    }
   ],
   "source": [
    "history = model.fit(x_train, y_train, batch_size = 32, epochs = 50, verbose = 1, validation_split = 0.2, shuffle = True)"
   ]
  },
  {
   "cell_type": "code",
   "execution_count": 7,
   "metadata": {},
   "outputs": [
    {
     "name": "stdout",
     "output_type": "stream",
     "text": [
      "Test Accuracy: 99.99791666666667 %\n",
      "Validation Accuracy: 97.5 %\n"
     ]
    }
   ],
   "source": [
    "print \"Test Accuracy:\",history.history['acc'][-1]*100,\"%\"\n",
    "print \"Validation Accuracy:\",history.history['val_acc'][-1] * 100,\"%\""
   ]
  },
  {
   "cell_type": "code",
   "execution_count": 8,
   "metadata": {},
   "outputs": [
    {
     "data": {
      "image/png": "[encoded data removed]",
      "text/plain": [
       "<matplotlib.figure.Figure at 0x7fd775310690>"
      ]
     },
     "metadata": {},
     "output_type": "display_data"
    }
   ],
   "source": [
    "plt.plot(history.history['acc'])\n",
    "plt.plot(history.history['val_acc'])\n",
    "plt.title('model accuracy')\n",
    "plt.ylabel('accuracy')\n",
    "plt.xlabel('epoch')\n",
    "plt.legend(['train', 'validation'], loc='upper left')\n",
    "plt.show()"
   ]
  },
  {
   "cell_type": "code",
   "execution_count": 9,
   "metadata": {},
   "outputs": [
    {
     "data": {
      "image/png": "[encoded data removed]",
      "text/plain": [
       "<matplotlib.figure.Figure at 0x7fd7753107d0>"
      ]
     },
     "metadata": {},
     "output_type": "display_data"
    }
   ],
   "source": [
    "plt.plot(history.history['loss'])\n",
    "plt.plot(history.history['val_loss'])\n",
    "plt.title('model loss')\n",
    "plt.ylabel('loss')\n",
    "plt.xlabel('epoch')\n",
    "plt.legend(['train', 'validation'], loc='upper right')\n",
    "plt.show()"
   ]
  },
  {
   "cell_type": "code",
   "execution_count": 10,
   "metadata": {},
   "outputs": [
    {
     "name": "stdout",
     "output_type": "stream",
     "text": [
      "_________________________________________________________________\n",
      "Layer (type)                 Output Shape              Param #   \n",
      "=================================================================\n",
      "dense_1 (Dense)              (None, 100)               78500     \n",
      "_________________________________________________________________\n",
      "dense_2 (Dense)              (None, 250)               25250     \n",
      "_________________________________________________________________\n",
      "dense_3 (Dense)              (None, 125)               31375     \n",
      "_________________________________________________________________\n",
      "dense_4 (Dense)              (None, 60)                7560      \n",
      "_________________________________________________________________\n",
      "dense_5 (Dense)              (None, 10)                610       \n",
      "=================================================================\n",
      "Total params: 143,295\n",
      "Trainable params: 143,295\n",
      "Non-trainable params: 0\n",
      "_________________________________________________________________\n"
     ]
    }
   ],
   "source": [
    "model.summary()"
   ]
  },
  {
   "cell_type": "code",
   "execution_count": 11,
   "metadata": {},
   "outputs": [
    {
     "name": "stdout",
     "output_type": "stream",
     "text": [
      "Test Accuracy: 97.87 %\n"
     ]
    }
   ],
   "source": [
    "eval = model.evaluate(x_test, y_test, verbose = 0)\n",
    "print \"Test Accuracy:\", eval[1]*100,\"%\"\n"
   ]
  },
  {
   "cell_type": "code",
   "execution_count": null,
   "metadata": {},
   "outputs": [],
   "source": []
  }
 ],
 "metadata": {
  "kernelspec": {
   "display_name": "Python 2",
   "language": "python",
   "name": "python2"
  },
  "language_info": {
   "codemirror_mode": {
    "name": "ipython",
    "version": 2
   },
   "file_extension": ".py",
   "mimetype": "text/x-python",
   "name": "python",
   "nbconvert_exporter": "python",
   "pygments_lexer": "ipython2",
   "version": "2.7.9"
  }
 },
 "nbformat": 4,
 "nbformat_minor": 2
}
